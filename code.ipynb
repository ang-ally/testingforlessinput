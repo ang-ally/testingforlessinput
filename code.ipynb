{
 "cells": [
  {
   "cell_type": "code",
   "execution_count": 2,
   "id": "658cfa25",
   "metadata": {},
   "outputs": [],
   "source": [
    "import pandas as pd\n",
    "import numpy as np\n",
    "from sklearn.model_selection import train_test_split\n",
    "from sklearn.preprocessing import RobustScaler\n",
    "from sklearn.metrics import mean_squared_error, mean_absolute_error\n",
    "from sklearn.model_selection import GridSearchCV\n",
    "from sklearn.svm import SVR\n",
    "import warnings\n",
    "warnings.filterwarnings('ignore')"
   ]
  },
  {
   "cell_type": "code",
   "execution_count": 3,
   "id": "6415ee17",
   "metadata": {},
   "outputs": [
    {
     "name": "stdout",
     "output_type": "stream",
     "text": [
      "Index(['h', 'fr', 'fl', 'fh', 'bw', 'fbw', 'd', 's', 'g'], dtype='object')\n"
     ]
    }
   ],
   "source": [
    "df = pd.read_excel('final fr4 ds.xlsx')\n",
    "df.head(5)\n",
    "print(df.columns)"
   ]
  },
  {
   "cell_type": "code",
   "execution_count": 4,
   "id": "41677e60",
   "metadata": {},
   "outputs": [
    {
     "name": "stdout",
     "output_type": "stream",
     "text": [
      "The Input Features:\n",
      "       h     fr       fl       fh       bw       fbw      g\n",
      "0    3.2  0.296  0.21418  0.39622  0.18204  0.615000  0.250\n",
      "1    3.2  0.328  0.25131  0.43165  0.18034  0.549817  0.375\n",
      "2    1.6  0.320  0.24560  0.41268  0.16708  0.522125  0.250\n",
      "3    0.8  0.328  0.25262  0.41697  0.16435  0.501067  0.250\n",
      "4    3.2  0.368  0.28980  0.47049  0.18069  0.491005  0.500\n",
      "..   ...    ...      ...      ...      ...       ...    ...\n",
      "319  1.6  3.552  2.38110  4.91160  2.53050  0.712416  0.375\n",
      "320  0.8  3.920  2.73230  5.36630  2.63400  0.671939  0.500\n",
      "321  1.6  3.728  2.55670  5.05840  2.50170  0.671057  0.500\n",
      "322  3.2  3.488  2.31500  4.61570  2.30070  0.659604  0.375\n",
      "323  3.2  3.648  2.47160  4.73990  2.26830  0.621793  0.500\n",
      "\n",
      "[324 rows x 7 columns]\n",
      "The Target Variable:\n",
      "0      62.5\n",
      "1      62.5\n",
      "2      62.5\n",
      "3      62.5\n",
      "4      62.5\n",
      "       ... \n",
      "319    12.5\n",
      "320    12.5\n",
      "321    12.5\n",
      "322    12.5\n",
      "323    12.5\n",
      "Name: d, Length: 324, dtype: float64\n",
      "Model score of svr with rbf kernel function :  0.9962604692204445\n",
      "root_mean_squared_error :  0.9663078025302129\n",
      "mean_absolute_error :  0.6320000000000002\n"
     ]
    }
   ],
   "source": [
    "#model1\n",
    "#Input Features and Target variable\n",
    "x1 = df[['h','fr','fl','fh','bw','fbw','g']]\n",
    "y1 = df['d']\n",
    "print('The Input Features:')\n",
    "print(x1)\n",
    "print('The Target Variable:')\n",
    "print(y1)\n",
    "#Splitting the dataset into Train set and Test set\n",
    "x1_train, x1_test, y1_train, y1_test = train_test_split(x1, y1, test_size=0.2, random_state=9)\n",
    "model1 = SVR(kernel=\"rbf\",C=7000,gamma=0.1,epsilon=0.01,cache_size=200)\n",
    "model1.fit(x1_train,y1_train)\n",
    "print('Model score of svr with rbf kernel function : ', model1.score(x1_test, y1_test))\n",
    "d_pred = model1.predict(x1_test)\n",
    "d_pred  = np.round(d_pred,2)\n",
    "#MODEL EVALUATION\n",
    "print('root_mean_squared_error : ', np.sqrt(mean_squared_error(y1_test, d_pred)))\n",
    "print('mean_absolute_error : ', (mean_absolute_error(y1_test, d_pred)))\n"
   ]
  },
  {
   "cell_type": "code",
   "execution_count": 5,
   "id": "bf136974",
   "metadata": {},
   "outputs": [
    {
     "name": "stdout",
     "output_type": "stream",
     "text": [
      "The Input Features:\n",
      "       h     fr       fl       fh       bw       fbw      g\n",
      "0    3.2  0.296  0.21418  0.39622  0.18204  0.615000  0.250\n",
      "1    3.2  0.328  0.25131  0.43165  0.18034  0.549817  0.375\n",
      "2    1.6  0.320  0.24560  0.41268  0.16708  0.522125  0.250\n",
      "3    0.8  0.328  0.25262  0.41697  0.16435  0.501067  0.250\n",
      "4    3.2  0.368  0.28980  0.47049  0.18069  0.491005  0.500\n",
      "..   ...    ...      ...      ...      ...       ...    ...\n",
      "319  1.6  3.552  2.38110  4.91160  2.53050  0.712416  0.375\n",
      "320  0.8  3.920  2.73230  5.36630  2.63400  0.671939  0.500\n",
      "321  1.6  3.728  2.55670  5.05840  2.50170  0.671057  0.500\n",
      "322  3.2  3.488  2.31500  4.61570  2.30070  0.659604  0.375\n",
      "323  3.2  3.648  2.47160  4.73990  2.26830  0.621793  0.500\n",
      "\n",
      "[324 rows x 7 columns]\n",
      "The Target Variable:\n",
      "        s\n",
      "0    0.25\n",
      "1    0.25\n",
      "2    0.25\n",
      "3    0.25\n",
      "4    0.25\n",
      "..    ...\n",
      "319  1.00\n",
      "320  1.00\n",
      "321  1.00\n",
      "322  1.00\n",
      "323  1.00\n",
      "\n",
      "[324 rows x 1 columns]\n",
      "The Input Features:\n",
      "            h        fr        fl        fh        bw       fbw    g\n",
      "0    0.666667 -0.522523 -0.563485 -0.495063 -0.406230  0.555326 -0.5\n",
      "1    0.666667 -0.486486 -0.506132 -0.465412 -0.409206 -0.035567  0.0\n",
      "2    0.000000 -0.495495 -0.514952 -0.481288 -0.432418 -0.286599 -0.5\n",
      "3   -0.333333 -0.486486 -0.504109 -0.477698 -0.437197 -0.477493 -0.5\n",
      "4    0.666667 -0.441441 -0.446679 -0.432906 -0.408593 -0.568703  0.5\n",
      "..        ...       ...       ...       ...       ...       ...  ...\n",
      "319  0.000000  3.144144  2.783627  3.283885  3.704842  1.438412  0.0\n",
      "320 -0.333333  3.558559  3.326104  3.664426  3.886022  1.071485  0.5\n",
      "321  0.000000  3.342342  3.054866  3.406743  3.654426  1.063490  0.5\n",
      "322  0.666667  3.072072  2.681526  3.036244  3.302568  0.959671  0.0\n",
      "323  0.666667  3.252252  2.923417  3.140188  3.245850  0.616904  0.5\n",
      "\n",
      "[324 rows x 7 columns]\n",
      "The Target Variable:\n",
      "0     -1.0\n",
      "1     -1.0\n",
      "2     -1.0\n",
      "3     -1.0\n",
      "4     -1.0\n",
      "      ... \n",
      "319    1.0\n",
      "320    1.0\n",
      "321    1.0\n",
      "322    1.0\n",
      "323    1.0\n",
      "Name: s, Length: 324, dtype: float64\n",
      "Model score of svr with rbf kernel function :  0.9007543892771301\n",
      "root_mean_squared_error :  0.08686860103716328\n",
      "mean_absolute_error :  0.0536923076923077\n"
     ]
    }
   ],
   "source": [
    "#model2\n",
    "#To Scale the values\n",
    "X = df[['h','fr','fl','fh','bw','fbw','g']]\n",
    "Y = df[['s']]\n",
    "print('The Input Features:')\n",
    "print(X)\n",
    "print('The Target Variable:')\n",
    "print(Y)\n",
    "scale_in = RobustScaler()\n",
    "scale_out = RobustScaler()\n",
    "x = scale_in.fit_transform(X)\n",
    "y = scale_out.fit_transform(Y)\n",
    "df_scaled = pd.DataFrame(x, columns =['h', 'fr','fl','fh','bw','fbw','g'])\n",
    "df_scaled['s'] = y\n",
    "df_scaled.describe().T\n",
    "#Input Features and Target \n",
    "x2 = df_scaled[['h','fr','fl','fh','bw','fbw','g']]\n",
    "y2 = df_scaled['s']\n",
    "print('The Input Features:')\n",
    "print(x2)\n",
    "print('The Target Variable:')\n",
    "print(y2)\n",
    "#Splitting the dataset into Train set and Test set\n",
    "x2_train, x2_test, y2_train, y2_test = train_test_split(x2, y2, test_size=0.2, random_state=9)\n",
    "#Model for s prediction with the best fit hyper parameters\n",
    "model2 = SVR(kernel=\"rbf\",C=7000,gamma=0.1,epsilon=0.01,cache_size=200)\n",
    "model2.fit(x2_train,y2_train)\n",
    "print('Model score of svr with rbf kernel function : ', model2.score(x2_test, y2_test))\n",
    "s_pred = model2.predict(x2_test)\n",
    "s_pred = (np.array(s_pred).reshape(-1,1))          \n",
    "s_pred = scale_out.inverse_transform(s_pred)\n",
    "s_pred  = np.round(s_pred,2)\n",
    "x2_test = scale_in.inverse_transform(x2_test)\n",
    "y2_test = (np.array(y2_test).reshape(-1,1))\n",
    "y2_test = scale_out.inverse_transform(y2_test)\n",
    "print('root_mean_squared_error : ', np.sqrt(mean_squared_error(y2_test, s_pred)))\n",
    "print('mean_absolute_error : ', mean_absolute_error(y2_test, s_pred))\n"
   ]
  },
  {
   "cell_type": "code",
   "execution_count": 6,
   "id": "6c4be878",
   "metadata": {},
   "outputs": [
    {
     "name": "stdout",
     "output_type": "stream",
     "text": [
      "Predicted d: 15.471635867354486\n",
      "Predicted s: [0.97374483]\n"
     ]
    }
   ],
   "source": [
    "#input values\n",
    "row = [1.6,2.44,1.6187,3.4761,1.8574,0.7612,0.25]\n",
    "from numpy import asarray\n",
    "newX = asarray([row])\n",
    "d_pred = model1.predict(newX)\n",
    "newX = scale_in.transform(newX)\n",
    "s_pred = model2.predict(newX)\n",
    "s_pred = s_pred.reshape(-1,1)\n",
    "s_pred = scale_out.inverse_transform(s_pred)\n",
    "print('Predicted d: %s' % d_pred[0])\n",
    "print('Predicted s: %s' % s_pred[0])\n"
   ]
  },
  {
   "cell_type": "code",
   "execution_count": 8,
   "id": "54e2d3fc",
   "metadata": {},
   "outputs": [],
   "source": [
    "#pickle creation\n",
    "import pickle\n",
    "file1 = 'd_prediction.sav'\n",
    "pickle.dump(model1,open(file1,'wb'))\n",
    "load_model1 = pickle.load(open('d_prediction.sav','rb'))\n",
    "\n",
    "file2 = 's_prediction.sav'\n",
    "pickle.dump(model2,open(file2,'wb'))\n",
    "load_model2 = pickle.load(open('s_prediction.sav','rb'))"
   ]
  },
  {
   "cell_type": "code",
   "execution_count": 10,
   "id": "eddc53dc",
   "metadata": {},
   "outputs": [
    {
     "name": "stdout",
     "output_type": "stream",
     "text": [
      "Predicted d: 15.471635867354486\n",
      "Predicted s: [0.97374483]\n"
     ]
    }
   ],
   "source": [
    "#input values -- loaded models\n",
    "row = [1.6,2.44,1.6187,3.4761,1.8574,0.7612,0.25]\n",
    "from numpy import asarray\n",
    "newX = asarray([row])\n",
    "d_pred = load_model1.predict(newX)\n",
    "newX = scale_in.transform(newX)\n",
    "s_pred = load_model2.predict(newX)\n",
    "s_pred = s_pred.reshape(-1,1)\n",
    "s_pred = scale_out.inverse_transform(s_pred)\n",
    "print('Predicted d: %s' % d_pred[0])\n",
    "print('Predicted s: %s' % s_pred[0])"
   ]
  },
  {
   "cell_type": "code",
   "execution_count": null,
   "id": "d447a007",
   "metadata": {},
   "outputs": [],
   "source": []
  }
 ],
 "metadata": {
  "kernelspec": {
   "display_name": "Python 3 (ipykernel)",
   "language": "python",
   "name": "python3"
  },
  "language_info": {
   "codemirror_mode": {
    "name": "ipython",
    "version": 3
   },
   "file_extension": ".py",
   "mimetype": "text/x-python",
   "name": "python",
   "nbconvert_exporter": "python",
   "pygments_lexer": "ipython3",
   "version": "3.8.16"
  }
 },
 "nbformat": 4,
 "nbformat_minor": 5
}
